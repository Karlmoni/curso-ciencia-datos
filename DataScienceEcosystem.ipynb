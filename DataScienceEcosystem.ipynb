{
  "metadata": {
    "kernelspec": {
      "name": "python",
      "display_name": "Python (Pyodide)",
      "language": "python"
    },
    "language_info": {
      "codemirror_mode": {
        "name": "python",
        "version": 3
      },
      "file_extension": ".py",
      "mimetype": "text/x-python",
      "name": "python",
      "nbconvert_exporter": "python",
      "pygments_lexer": "ipython3",
      "version": "3.8"
    }
  },
  "nbformat_minor": 5,
  "nbformat": 4,
  "cells": [
    {
      "id": "e36c5958-0123-48d5-af75-4630e23306eb",
      "cell_type": "markdown",
      "source": "# Data Science Tools and Ecosystem",
      "metadata": {}
    },
    {
      "id": "9c7c827f-a34a-4245-a04d-f367b3b60c01",
      "cell_type": "markdown",
      "source": "En este cuaderno, se resumen las herramientas y ecosistemas de ciencia de datos.",
      "metadata": {}
    },
    {
      "id": "c5c25553-e836-42d0-82b2-d1f54c469ec4",
      "cell_type": "markdown",
      "source": "**Objetivos:**\n* Listar lenguajes populares para Ciencia de Datos\n* Listar bibliotecas populares para Ciencia de Datos\n* Crear tablas en Markdown\n* Ejemplos de evaluación de expresiones aritméticas en Python",
      "metadata": {}
    },
    {
      "id": "2db6d4fd-b9ef-4eb7-a91f-aa953a266e69",
      "cell_type": "markdown",
      "source": "Algunos de los lenguajes utilizados en la ciencia de datos son:\n\n1. Python  \n2. R  \n3. SQL  \n4. Scala  \n5. Julia",
      "metadata": {}
    },
    {
      "id": "67960b29-4543-4628-851a-fd5e41bde82b",
      "cell_type": "markdown",
      "source": "Algunas de las bibliotecas comúnmente utilizadas por los científicos de datos incluyen:\n1. NumPy\n2. Pandas\n3. Matplotlib\n4. Scikit-learn",
      "metadata": {}
    },
    {
      "id": "ab0739f8-e8d6-4c5e-a3ac-47e18610d8fc",
      "cell_type": "markdown",
      "source": "| Herramientas de Ciencia de Datos |\n|--------------------------|\n| Jupyter Notebooks        |\n| RStudio                  |\n| VS Code                  |",
      "metadata": {}
    },
    {
      "id": "5da0a871-ea1e-4d31-a8b2-faa2ceaa1ffd",
      "cell_type": "markdown",
      "source": "### A continuación, se presentan algunos ejemplos de evaluación de expresiones aritméticas en Python.",
      "metadata": {}
    },
    {
      "id": "a1bc13b9-d4e6-4c00-a293-fbcd8d315ec6",
      "cell_type": "code",
      "source": "# Esta es una expresión aritmética simple para multiplicar y luego sumar enteros\n(3*4)+5",
      "metadata": {
        "trusted": true
      },
      "outputs": [
        {
          "execution_count": 1,
          "output_type": "execute_result",
          "data": {
            "text/plain": "17"
          },
          "metadata": {}
        }
      ],
      "execution_count": 1
    },
    {
      "id": "0138ac3f-7850-47c0-8a4f-82818428260f",
      "cell_type": "code",
      "source": "# Esto convertirá 200 minutos a horas dividiendo por 60.\n200 / 60",
      "metadata": {
        "trusted": true
      },
      "outputs": [
        {
          "execution_count": 2,
          "output_type": "execute_result",
          "data": {
            "text/plain": "3.3333333333333335"
          },
          "metadata": {}
        }
      ],
      "execution_count": 2
    },
    {
      "id": "4ae0b14c-40eb-4ff7-956b-f91c4eb349e2",
      "cell_type": "markdown",
      "source": "## Autor\nKarla Hidalgo Jauregui",
      "metadata": {}
    }
  ]
}