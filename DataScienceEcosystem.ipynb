{
  "metadata": {
    "kernelspec": {
      "name": "python",
      "display_name": "Python (Pyodide)",
      "language": "python"
    },
    "language_info": {
      "codemirror_mode": {
        "name": "python",
        "version": 3
      },
      "file_extension": ".py",
      "mimetype": "text/x-python",
      "name": "python",
      "nbconvert_exporter": "python",
      "pygments_lexer": "ipython3",
      "version": "3.8"
    }
  },
  "nbformat_minor": 5,
  "nbformat": 4,
  "cells": [
    {
      "id": "e36c5958-0123-48d5-af75-4630e23306eb",
      "cell_type": "markdown",
      "source": "# Data Science Tools and Ecosystem",
      "metadata": {}
    },
    {
      "id": "9c7c827f-a34a-4245-a04d-f367b3b60c01",
      "cell_type": "markdown",
      "source": "In this notebook, data science tools and ecosystems are summarized.",
      "metadata": {}
    },
    {
      "id": "c5c25553-e836-42d0-82b2-d1f54c469ec4",
      "cell_type": "markdown",
      "source": "**Objectives:**\n* List popular languages for Data Science\n* List popular libraries for Data Science\n* Create tables in Markdown\n* Examples of evaluating arithmetic expressions in Python",
      "metadata": {}
    },
    {
      "id": "2db6d4fd-b9ef-4eb7-a91f-aa953a266e69",
      "cell_type": "markdown",
      "source": "Some of the popular languages that data scientists use are:\n\n1. Python\n2. R\n3. SQL\n4. Scala\n5. Julia",
      "metadata": {}
    },
    {
      "id": "67960b29-4543-4628-851a-fd5e41bde82b",
      "cell_type": "markdown",
      "source": "Some of the libraries commonly used by data scientists include:\n\n1. NumPy\n2. Pandas\n3. Matplotlib\n4. Scikit-learn",
      "metadata": {}
    },
    {
      "id": "ab0739f8-e8d6-4c5e-a3ac-47e18610d8fc",
      "cell_type": "markdown",
      "source": "| Data Science Tools |\n|--------------------------|\n| Jupyter Notebooks        |\n| RStudio                  |\n| VS Code                  |",
      "metadata": {}
    },
    {
      "id": "5da0a871-ea1e-4d31-a8b2-faa2ceaa1ffd",
      "cell_type": "markdown",
      "source": "### Below are some examples of evaluating arithmetic expressions in Python.",
      "metadata": {}
    },
    {
      "id": "a1bc13b9-d4e6-4c00-a293-fbcd8d315ec6",
      "cell_type": "code",
      "source": "# This is a simple arithmetic expression to multiply and then add integers.\n(3*4)+5",
      "metadata": {
        "trusted": true
      },
      "outputs": [
        {
          "execution_count": 3,
          "output_type": "execute_result",
          "data": {
            "text/plain": "17"
          },
          "metadata": {}
        }
      ],
      "execution_count": 3
    },
    {
      "id": "0138ac3f-7850-47c0-8a4f-82818428260f",
      "cell_type": "code",
      "source": "# This will convert 200 minutes to hours by dividing by 60.\n200 / 60",
      "metadata": {
        "trusted": true
      },
      "outputs": [
        {
          "execution_count": 4,
          "output_type": "execute_result",
          "data": {
            "text/plain": "3.3333333333333335"
          },
          "metadata": {}
        }
      ],
      "execution_count": 4
    },
    {
      "id": "4ae0b14c-40eb-4ff7-956b-f91c4eb349e2",
      "cell_type": "markdown",
      "source": "## Author\nKarla Hidalgo Jauregui",
      "metadata": {}
    }
  ]
}